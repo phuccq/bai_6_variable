{
 "cells": [
  {
   "cell_type": "code",
   "execution_count": 1,
   "id": "889786a8",
   "metadata": {},
   "outputs": [],
   "source": [
    "import turtle\n",
    "t = turtle.Turtle()\n",
    "canh = 100\n",
    "goc = 90\n",
    "t.forward(canh)\n",
    "t.left(goc)\n",
    "t.forward(canh)\n",
    "t.left(goc)\n",
    "t.forward(canh)\n",
    "t.left(goc)\n",
    "t.forward(canh)\n",
    "t.left(goc)\n",
    "t.forward(canh/2)\n",
    "t.left(goc)\n",
    "t.forward(canh/2)\n",
    "t.left(goc)\n",
    "t.forward(canh)\n",
    "t.left(goc)\n",
    "t.forward(canh)\n",
    "t.left(goc)\n",
    "t.forward(canh)\n",
    "t.left(goc)\n",
    "t.forward(goc/2)\n",
    "turtle.done()"
   ]
  }
 ],
 "metadata": {
  "kernelspec": {
   "display_name": "Python 3",
   "language": "python",
   "name": "python3"
  },
  "language_info": {
   "codemirror_mode": {
    "name": "ipython",
    "version": 3
   },
   "file_extension": ".py",
   "mimetype": "text/x-python",
   "name": "python",
   "nbconvert_exporter": "python",
   "pygments_lexer": "ipython3",
   "version": "3.8.8"
  }
 },
 "nbformat": 4,
 "nbformat_minor": 5
}
