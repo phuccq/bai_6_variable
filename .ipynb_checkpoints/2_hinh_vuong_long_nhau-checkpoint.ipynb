{
 "cells": [
  {
   "cell_type": "code",
   "execution_count": 1,
   "id": "a447d7db",
   "metadata": {},
   "outputs": [],
   "source": [
    "import turtle\n",
    "import math\n",
    "t = turtle.Turtle()\n",
    "canh = 100\n",
    "goc = 90\n",
    "#Vẽ hình vuông thứ 1\n",
    "t.forward(canh)\n",
    "t.left(goc)\n",
    "t.forward(canh)\n",
    "t.left(goc)\n",
    "t.forward(canh)\n",
    "t.left(goc)\n",
    "t.forward(canh)\n",
    "t.left(goc)\n",
    "#Vẽ hình vuông thứ 2\n",
    "t.forward(canh/2)\n",
    "t.right(goc)\n",
    "t.penup()\n",
    "t.forward(math.sqrt(canh*canh/2)-canh/2)\n",
    "t.pendown()\n",
    "t.right(goc+45)\n",
    "t.forward(canh)\n",
    "t.right(goc)\n",
    "t.forward(canh)\n",
    "t.right(goc)\n",
    "t.forward(canh)\n",
    "t.right(goc)\n",
    "t.forward(canh)\n",
    "turtle.done()"
   ]
  }
 ],
 "metadata": {
  "kernelspec": {
   "display_name": "Python 3",
   "language": "python",
   "name": "python3"
  },
  "language_info": {
   "codemirror_mode": {
    "name": "ipython",
    "version": 3
   },
   "file_extension": ".py",
   "mimetype": "text/x-python",
   "name": "python",
   "nbconvert_exporter": "python",
   "pygments_lexer": "ipython3",
   "version": "3.8.8"
  }
 },
 "nbformat": 4,
 "nbformat_minor": 5
}
