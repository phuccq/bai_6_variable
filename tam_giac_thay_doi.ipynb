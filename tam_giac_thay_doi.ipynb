{
 "cells": [
  {
   "cell_type": "code",
   "execution_count": 1,
   "id": "92a437d7",
   "metadata": {},
   "outputs": [],
   "source": [
    "import turtle\n",
    "import math\n",
    "t = turtle.Turtle()\n",
    "so_tam_giac = 6\n",
    "canh = 100\n",
    "goc = 360/so_tam_giac\n",
    "t.forward(canh)\n",
    "t.left(goc)\n",
    "t.forward(canh)\n",
    "t.left(goc)\n",
    "t.forward(canh)\n",
    "t.left(goc)\n",
    "t.forward(canh)\n",
    "t.left(goc)\n",
    "t.forward(canh)\n",
    "turtle.done()"
   ]
  }
 ],
 "metadata": {
  "kernelspec": {
   "display_name": "Python 3",
   "language": "python",
   "name": "python3"
  },
  "language_info": {
   "codemirror_mode": {
    "name": "ipython",
    "version": 3
   },
   "file_extension": ".py",
   "mimetype": "text/x-python",
   "name": "python",
   "nbconvert_exporter": "python",
   "pygments_lexer": "ipython3",
   "version": "3.8.8"
  }
 },
 "nbformat": 4,
 "nbformat_minor": 5
}
